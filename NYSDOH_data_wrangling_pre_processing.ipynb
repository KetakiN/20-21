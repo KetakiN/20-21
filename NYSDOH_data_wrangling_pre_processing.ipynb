{
  "nbformat": 4,
  "nbformat_minor": 0,
  "metadata": {
    "colab": {
      "name": "NYSDOH_data_wrangling_pre_processing.ipynb",
      "provenance": [],
      "authorship_tag": "ABX9TyNvRN6RPxCdDGphnKvl1513",
      "include_colab_link": true
    },
    "kernelspec": {
      "name": "python3",
      "display_name": "Python 3"
    }
  },
  "cells": [
    {
      "cell_type": "markdown",
      "metadata": {
        "id": "view-in-github",
        "colab_type": "text"
      },
      "source": [
        "<a href=\"https://colab.research.google.com/github/KetakiN/20-21/blob/main/NYSDOH_data_wrangling_pre_processing.ipynb\" target=\"_parent\"><img src=\"https://colab.research.google.com/assets/colab-badge.svg\" alt=\"Open In Colab\"/></a>"
      ]
    },
    {
      "cell_type": "code",
      "metadata": {
        "id": "c0lEWK_10sS6"
      },
      "source": [
        "import numpy as np\r\n",
        "import pandas as pd\r\n",
        "import matplotlib.pyplot as plt\r\n",
        "import seaborn as sns\r\n",
        "from wordcloud import WordCloud\r\n",
        "from google.colab import files"
      ],
      "execution_count": null,
      "outputs": []
    },
    {
      "cell_type": "code",
      "metadata": {
        "id": "tHe-eacn1C3_"
      },
      "source": [
        "df=pd.read_csv('/content/sample_data/NYSDOH_clean2.csv')"
      ],
      "execution_count": null,
      "outputs": []
    },
    {
      "cell_type": "code",
      "metadata": {
        "id": "p7O_NFgQ1G9C"
      },
      "source": [
        "df=df.drop(['Unnamed:_0','Unnamed: 0'],axis=1)"
      ],
      "execution_count": null,
      "outputs": []
    },
    {
      "cell_type": "code",
      "metadata": {
        "colab": {
          "base_uri": "https://localhost:8080/"
        },
        "id": "ZQZEyPgALbl6",
        "outputId": "fbdc8be0-9e57-4ef7-d0a3-1ee586319c61"
      },
      "source": [
        "df.columns"
      ],
      "execution_count": null,
      "outputs": [
        {
          "output_type": "execute_result",
          "data": {
            "text/plain": [
              "Index(['Hospital_Service_Area', 'Hospital_County',\n",
              "       'Operating_Certificate_Number', 'Permanent_Facility_Id',\n",
              "       'Facility_Name', 'Age_Group', 'Zip_Code__3_digits', 'Gender', 'Race',\n",
              "       'Length_of_Stay', 'Type_of_Admission', 'Patient_Disposition',\n",
              "       'Discharge_Year', 'CCS_Diagnosis_Code', 'CCS_Diagnosis_Description',\n",
              "       'CCS_Procedure_Code', 'CCS_Procedure_Description', 'APR_DRG_Code',\n",
              "       'APR_DRG_Description', 'APR_MDC_Code', 'APR_MDC_Description',\n",
              "       'APR_Severity_of_Illness_Code', 'APR_Severity_of_Illness_Description',\n",
              "       'APR_Risk_of_Mortality', 'APR_Medical_Surgical_Description',\n",
              "       'Payment_Typology_1', 'Payment_Typology_2', 'Payment_Typology_3',\n",
              "       'Birth_Weight', 'Abortion_Edit_Indicator',\n",
              "       'Emergency_Department_Indicator', 'Total_Charges', 'Total_Costs',\n",
              "       'Ratio_of_Total_Costs_to_Total_Charges', 'Length_groups'],\n",
              "      dtype='object')"
            ]
          },
          "metadata": {
            "tags": []
          },
          "execution_count": 4
        }
      ]
    },
    {
      "cell_type": "code",
      "metadata": {
        "colab": {
          "base_uri": "https://localhost:8080/"
        },
        "id": "uibM-KsZLrMX",
        "outputId": "cbbebbc5-8838-4a0d-8d68-de9f09849eed"
      },
      "source": [
        "df.shape"
      ],
      "execution_count": null,
      "outputs": [
        {
          "output_type": "execute_result",
          "data": {
            "text/plain": [
              "(118049, 35)"
            ]
          },
          "metadata": {
            "tags": []
          },
          "execution_count": 5
        }
      ]
    },
    {
      "cell_type": "code",
      "metadata": {
        "id": "gxvthJYaLm8s"
      },
      "source": [
        "# Drop columns that will not be relevant to predicting length of stay, will be repetitive of information in other columns,codes or status determined at discharge or toward discharge\r\n",
        "df=df.drop(['Operating_Certificate_Number', 'Permanent_Facility_Id','Patient_Disposition',\r\n",
        "       'Discharge_Year','APR_DRG_Code',\r\n",
        "       'APR_DRG_Description', 'APR_MDC_Code', 'APR_MDC_Description',\r\n",
        "       'APR_Severity_of_Illness_Code', 'APR_Severity_of_Illness_Description',\r\n",
        "       'APR_Risk_of_Mortality', 'APR_Medical_Surgical_Description','Payment_Typology_2', 'Payment_Typology_3',\r\n",
        "       'Birth_Weight', 'Abortion_Edit_Indicator','Total_Charges', 'Total_Costs',\r\n",
        "       'Ratio_of_Total_Costs_to_Total_Charges'],axis=1)"
      ],
      "execution_count": null,
      "outputs": []
    },
    {
      "cell_type": "code",
      "metadata": {
        "colab": {
          "base_uri": "https://localhost:8080/"
        },
        "id": "asRibGp8MtJa",
        "outputId": "c89cb6be-c1be-4310-ed7b-81f03da2003d"
      },
      "source": [
        "df.columns"
      ],
      "execution_count": null,
      "outputs": [
        {
          "output_type": "execute_result",
          "data": {
            "text/plain": [
              "Index(['Hospital_Service_Area', 'Hospital_County', 'Facility_Name',\n",
              "       'Age_Group', 'Zip_Code__3_digits', 'Gender', 'Race', 'Length_of_Stay',\n",
              "       'Type_of_Admission', 'CCS_Diagnosis_Code', 'CCS_Diagnosis_Description',\n",
              "       'CCS_Procedure_Code', 'CCS_Procedure_Description', 'Payment_Typology_1',\n",
              "       'Emergency_Department_Indicator', 'Length_groups'],\n",
              "      dtype='object')"
            ]
          },
          "metadata": {
            "tags": []
          },
          "execution_count": 7
        }
      ]
    },
    {
      "cell_type": "code",
      "metadata": {
        "colab": {
          "base_uri": "https://localhost:8080/",
          "height": 280
        },
        "id": "QscePrCU1RoS",
        "outputId": "9da676d6-9565-41fa-fa2e-ba0d8043ba9f"
      },
      "source": [
        "sns.histplot(x=df['Length_of_Stay'],data=df)\r\n",
        "plt.show()"
      ],
      "execution_count": null,
      "outputs": [
        {
          "output_type": "display_data",
          "data": {
            "image/png": "[encoded data removed]",
            "text/plain": [
              "<Figure size 432x288 with 1 Axes>"
            ]
          },
          "metadata": {
            "tags": [],
            "needs_background": "light"
          }
        }
      ]
    },
    {
      "cell_type": "code",
      "metadata": {
        "colab": {
          "base_uri": "https://localhost:8080/",
          "height": 269
        },
        "id": "ENWSDyLA9HNd",
        "outputId": "c17c4be0-150f-40c1-da45-7036a37d5a92"
      },
      "source": [
        "bins = 3**(np.arange(0,6))\r\n",
        "\r\n",
        "data=df['Length_of_Stay']\r\n",
        "plt.hist(data,bins=bins) \r\n",
        "plt.xscale('log')"
      ],
      "execution_count": null,
      "outputs": [
        {
          "output_type": "display_data",
          "data": {
            "image/png": "[encoded data removed]",
            "text/plain": [
              "<Figure size 432x288 with 1 Axes>"
            ]
          },
          "metadata": {
            "tags": [],
            "needs_background": "light"
          }
        }
      ]
    },
    {
      "cell_type": "code",
      "metadata": {
        "colab": {
          "base_uri": "https://localhost:8080/"
        },
        "id": "hEjrpNjX7YhW",
        "outputId": "96104455-afe1-45f6-a258-ad265a1f0d7b"
      },
      "source": [
        "df.Length_of_Stay.describe()"
      ],
      "execution_count": null,
      "outputs": [
        {
          "output_type": "execute_result",
          "data": {
            "text/plain": [
              "count    118049.000000\n",
              "mean          5.503537\n",
              "std           8.104633\n",
              "min           1.000000\n",
              "25%           2.000000\n",
              "50%           3.000000\n",
              "75%           6.000000\n",
              "max         120.000000\n",
              "Name: Length_of_Stay, dtype: float64"
            ]
          },
          "metadata": {
            "tags": []
          },
          "execution_count": 10
        }
      ]
    },
    {
      "cell_type": "code",
      "metadata": {
        "colab": {
          "base_uri": "https://localhost:8080/"
        },
        "id": "KhOkARva8W6T",
        "outputId": "31279c5d-ab35-4ccd-ff3e-dda620edd988"
      },
      "source": [
        "df.shape"
      ],
      "execution_count": null,
      "outputs": [
        {
          "output_type": "execute_result",
          "data": {
            "text/plain": [
              "(118049, 16)"
            ]
          },
          "metadata": {
            "tags": []
          },
          "execution_count": 11
        }
      ]
    },
    {
      "cell_type": "code",
      "metadata": {
        "colab": {
          "base_uri": "https://localhost:8080/",
          "height": 355
        },
        "id": "DYJr6WUR7dJ9",
        "outputId": "31437399-48b5-4f61-a37f-3e6a82d9895e"
      },
      "source": [
        "#Check with 5% outliers removed\r\n",
        "sns.set_theme(style=\"whitegrid\")\r\n",
        "std=df['Length_of_Stay'].std()\r\n",
        "mean=df['Length_of_Stay'].mean()\r\n",
        "cutoff=std*3\r\n",
        "lower,upper=mean-cutoff,mean+cutoff\r\n",
        "trimmed_df=df[(df['Length_of_Stay']>lower)&(df['Length_of_Stay']<upper)]\r\n",
        "sns.boxplot(trimmed_df['Length_of_Stay'])\r\n",
        "plt.title('Length_of_stay(outliers removed)')\r\n",
        "#plt.savefig('box_length.png')\r\n",
        "\r\n",
        "plt.show()"
      ],
      "execution_count": null,
      "outputs": [
        {
          "output_type": "stream",
          "text": [
            "/usr/local/lib/python3.7/dist-packages/seaborn/_decorators.py:43: FutureWarning: Pass the following variable as a keyword arg: x. From version 0.12, the only valid positional argument will be `data`, and passing other arguments without an explicit keyword will result in an error or misinterpretation.\n",
            "  FutureWarning\n"
          ],
          "name": "stderr"
        },
        {
          "output_type": "display_data",
          "data": {
            "image/png": "[encoded data removed]",
            "text/plain": [
              "<Figure size 432x288 with 1 Axes>"
            ]
          },
          "metadata": {
            "tags": []
          }
        }
      ]
    },
    {
      "cell_type": "code",
      "metadata": {
        "colab": {
          "base_uri": "https://localhost:8080/"
        },
        "id": "lPySZN258bA_",
        "outputId": "5e328288-b5c4-4645-af47-874138445eed"
      },
      "source": [
        "trimmed_df.Length_of_Stay.describe()"
      ],
      "execution_count": null,
      "outputs": [
        {
          "output_type": "execute_result",
          "data": {
            "text/plain": [
              "count    116066.000000\n",
              "mean          4.733531\n",
              "std           4.637916\n",
              "min           1.000000\n",
              "25%           2.000000\n",
              "50%           3.000000\n",
              "75%           6.000000\n",
              "max          29.000000\n",
              "Name: Length_of_Stay, dtype: float64"
            ]
          },
          "metadata": {
            "tags": []
          },
          "execution_count": 13
        }
      ]
    },
    {
      "cell_type": "code",
      "metadata": {
        "id": "lAfMJ2hC2oEv"
      },
      "source": [
        "# Create length of stay bins, For 1 day: 24 hour stay, 2-5 days(below mean),\r\n",
        "# 6-20 days(above mean to 20),21 to 90 days(short term rehab hospital stay common durations) \r\n",
        "# and 90+ days(long term faciltities). The upper limits of the ranges were used\r\n",
        "bins=[-np.inf,1,5,20,90,np.inf]\r\n",
        "#bin labels\r\n",
        "labels=['0-1','2-5','6-20','21-90','91-120']\r\n",
        "df['length_groups']=pd.cut(df['Length_of_Stay'],bins,labels=labels)"
      ],
      "execution_count": null,
      "outputs": []
    },
    {
      "cell_type": "code",
      "metadata": {
        "id": "RjGtbVm44hds",
        "colab": {
          "base_uri": "https://localhost:8080/",
          "height": 285
        },
        "outputId": "6e544c32-518c-4572-b476-e8ebad778f05"
      },
      "source": [
        "sns.histplot(x=df['length_groups'])\r\n",
        "plt.show()"
      ],
      "execution_count": null,
      "outputs": [
        {
          "output_type": "display_data",
          "data": {
            "image/png": "[encoded data removed]",
            "text/plain": [
              "<Figure size 432x288 with 1 Axes>"
            ]
          },
          "metadata": {
            "tags": []
          }
        }
      ]
    },
    {
      "cell_type": "code",
      "metadata": {
        "colab": {
          "base_uri": "https://localhost:8080/"
        },
        "id": "qanpp7Z5wxTP",
        "outputId": "cf5486ad-824f-4939-c54c-4e057bcc54b3"
      },
      "source": [
        "df.length_groups.unique()"
      ],
      "execution_count": null,
      "outputs": [
        {
          "output_type": "execute_result",
          "data": {
            "text/plain": [
              "['2-5', '6-20', '0-1', '21-90', '91-120']\n",
              "Categories (5, object): ['0-1' < '2-5' < '6-20' < '21-90' < '91-120']"
            ]
          },
          "metadata": {
            "tags": []
          },
          "execution_count": 16
        }
      ]
    },
    {
      "cell_type": "code",
      "metadata": {
        "id": "EBkUnBr76M8w",
        "colab": {
          "base_uri": "https://localhost:8080/"
        },
        "outputId": "83f81f3f-861b-4d88-e375-3d0a31ac9f60"
      },
      "source": [
        "# remap age groups\r\n",
        "df.Age_Group.unique()"
      ],
      "execution_count": null,
      "outputs": [
        {
          "output_type": "execute_result",
          "data": {
            "text/plain": [
              "array(['30 to 49', '18 to 29', '0 to 17', '70 or Older', '50 to 69'],\n",
              "      dtype=object)"
            ]
          },
          "metadata": {
            "tags": []
          },
          "execution_count": 17
        }
      ]
    },
    {
      "cell_type": "code",
      "metadata": {
        "id": "ZnGsN2zOAry4"
      },
      "source": [
        "dict={'70 or Older':80, '50 to 69':60,'30 to 49':40 , '18 to 29':20, '0 to 17':10}"
      ],
      "execution_count": null,
      "outputs": []
    },
    {
      "cell_type": "code",
      "metadata": {
        "id": "3IXDhtJpBMfS"
      },
      "source": [
        "df=df.replace({'Age_Group':dict})"
      ],
      "execution_count": null,
      "outputs": []
    },
    {
      "cell_type": "code",
      "metadata": {
        "id": "jvD0i7fXBMv8",
        "colab": {
          "base_uri": "https://localhost:8080/"
        },
        "outputId": "59c805f0-321a-42f4-a445-82391d925f5f"
      },
      "source": [
        "df.Age_Group.unique()"
      ],
      "execution_count": null,
      "outputs": [
        {
          "output_type": "execute_result",
          "data": {
            "text/plain": [
              "array([40, 20, 10, 80, 60])"
            ]
          },
          "metadata": {
            "tags": []
          },
          "execution_count": 20
        }
      ]
    },
    {
      "cell_type": "code",
      "metadata": {
        "id": "G0OYt2WBExVl",
        "colab": {
          "base_uri": "https://localhost:8080/"
        },
        "outputId": "84708f63-a66f-495a-c6d6-c88efd3eba57"
      },
      "source": [
        "df[df['CCS_Procedure_Code']!=0].value_counts().sum()"
      ],
      "execution_count": null,
      "outputs": [
        {
          "output_type": "execute_result",
          "data": {
            "text/plain": [
              "89655"
            ]
          },
          "metadata": {
            "tags": []
          },
          "execution_count": 21
        }
      ]
    },
    {
      "cell_type": "code",
      "metadata": {
        "id": "bWnZfdsbQtsT",
        "colab": {
          "base_uri": "https://localhost:8080/"
        },
        "outputId": "31309408-f655-46db-aa1f-3c5d674b9e7a"
      },
      "source": [
        "# There are 258 different types of diagnosis categories.Lets take a look at the top 17 most occurring\r\n",
        "common_diag=df[df.groupby('CCS_Diagnosis_Description')['CCS_Diagnosis_Description'].transform('size') >1700]\r\n",
        "\r\n",
        "common_diag['CCS_Diagnosis_Description'].unique()"
      ],
      "execution_count": null,
      "outputs": [
        {
          "output_type": "execute_result",
          "data": {
            "text/plain": [
              "array(['Osteoarthritis', 'Liveborn',\n",
              "       'Complication of device; implant or graft', 'Cardiac dysrhythmias',\n",
              "       'Acute cerebrovascular disease',\n",
              "       'Other complications of birth; puerperium affecting management of mother',\n",
              "       'Pneumonia (except that caused by tuberculosis or sexually transmitted disease)',\n",
              "       'Congestive heart failure; nonhypertensive',\n",
              "       'Septicemia (except in labor)',\n",
              "       'Diabetes mellitus with complications', 'Asthma',\n",
              "       'Spondylosis; intervertebral disc disorders; other back problems',\n",
              "       'Schizophrenia and other psychotic disorders',\n",
              "       'Substance-related disorders', 'Mood disorders',\n",
              "       'Skin and subcutaneous tissue infections',\n",
              "       'Alcohol-related disorders'], dtype=object)"
            ]
          },
          "metadata": {
            "tags": []
          },
          "execution_count": 22
        }
      ]
    },
    {
      "cell_type": "code",
      "metadata": {
        "colab": {
          "base_uri": "https://localhost:8080/"
        },
        "id": "jGR7LSSguG5S",
        "outputId": "34b54d45-463f-4648-a67d-f837d6da15e9"
      },
      "source": [
        "common_diag['CCS_Diagnosis_Description'].unique().shape"
      ],
      "execution_count": null,
      "outputs": [
        {
          "output_type": "execute_result",
          "data": {
            "text/plain": [
              "(17,)"
            ]
          },
          "metadata": {
            "tags": []
          },
          "execution_count": 23
        }
      ]
    },
    {
      "cell_type": "code",
      "metadata": {
        "id": "MlyYAjnPRmnM",
        "colab": {
          "base_uri": "https://localhost:8080/"
        },
        "outputId": "89cfbf27-2ac1-482c-9e86-6b5d3f179e5e"
      },
      "source": [
        "common_diag['CCS_Diagnosis_Description'].describe()"
      ],
      "execution_count": null,
      "outputs": [
        {
          "output_type": "execute_result",
          "data": {
            "text/plain": [
              "count        48615\n",
              "unique          17\n",
              "top       Liveborn\n",
              "freq         11554\n",
              "Name: CCS_Diagnosis_Description, dtype: object"
            ]
          },
          "metadata": {
            "tags": []
          },
          "execution_count": 24
        }
      ]
    },
    {
      "cell_type": "code",
      "metadata": {
        "id": "Z2hZI50VgOWZ"
      },
      "source": [
        "#df=common_diag"
      ],
      "execution_count": null,
      "outputs": []
    },
    {
      "cell_type": "code",
      "metadata": {
        "id": "pdYisr4oUJwX"
      },
      "source": [
        "#remap common diagnosis names to abrreviated versions\r\n",
        "dict={ 'Osteoarthritis':'OA', 'Liveborn':'LB',\r\n",
        "       'Complication of device; implant or graft':'CM1', 'Cardiac dysrhythmias':'Cd',\r\n",
        "       'Acute cerebrovascular disease':'CVA',\r\n",
        "       'Other complications of birth; puerperium affecting management of mother':'CM2',\r\n",
        "       'Pneumonia (except that caused by tuberculosis or sexually transmitted disease)':'PNU',\r\n",
        "       'Congestive heart failure; nonhypertensive':'CHF',\r\n",
        "       'Septicemia (except in labor)':'Sept',\r\n",
        "       'Diabetes mellitus with complications':'DM', 'Asthma':'ASTH',\r\n",
        "       'Spondylosis; intervertebral disc disorders; other back problems':'Spondy',\r\n",
        "       'Schizophrenia and other psychotic disorders':'SCHIZ',\r\n",
        "       'Substance-related disorders':'SubA', 'Mood disorders':'Mood',\r\n",
        "       'Skin and subcutaneous tissue infections':'Skin',\r\n",
        "       'Alcohol-related disorders':'Alch'}"
      ],
      "execution_count": null,
      "outputs": []
    },
    {
      "cell_type": "code",
      "metadata": {
        "id": "cH0XsgeMVhqX"
      },
      "source": [
        "common_diag=common_diag.replace({'CCS_Diagnosis_Description':dict})\r\n"
      ],
      "execution_count": null,
      "outputs": []
    },
    {
      "cell_type": "code",
      "metadata": {
        "id": "FYyKvsPKVt8y",
        "colab": {
          "base_uri": "https://localhost:8080/"
        },
        "outputId": "8e64b696-fa58-41e3-c898-b198acc13a5a"
      },
      "source": [
        "common_diag['CCS_Diagnosis_Description'].unique()"
      ],
      "execution_count": null,
      "outputs": [
        {
          "output_type": "execute_result",
          "data": {
            "text/plain": [
              "array(['OA', 'LB', 'CM1', 'Cd', 'CVA', 'CM2', 'PNU', 'CHF', 'Sept', 'DM',\n",
              "       'ASTH', 'Spondy', 'SCHIZ', 'SubA', 'Mood', 'Skin', 'Alch'],\n",
              "      dtype=object)"
            ]
          },
          "metadata": {
            "tags": []
          },
          "execution_count": 28
        }
      ]
    },
    {
      "cell_type": "code",
      "metadata": {
        "id": "moZk6Mp6zWYm"
      },
      "source": [
        "dfcommon=pd.DataFrame(common_diag['CCS_Diagnosis_Description'].value_counts())"
      ],
      "execution_count": null,
      "outputs": []
    },
    {
      "cell_type": "code",
      "metadata": {
        "id": "FgW1q7Qozeza"
      },
      "source": [
        "dfcommon.columns=['Count']"
      ],
      "execution_count": null,
      "outputs": []
    },
    {
      "cell_type": "code",
      "metadata": {
        "id": "CzjqUv222EMU"
      },
      "source": [
        "dfcommon.reset_index(inplace=True)"
      ],
      "execution_count": null,
      "outputs": []
    },
    {
      "cell_type": "code",
      "metadata": {
        "id": "3259nEJP2Iyn"
      },
      "source": [
        "dfcommon.columns=['Diagnosis','Count']"
      ],
      "execution_count": null,
      "outputs": []
    },
    {
      "cell_type": "code",
      "metadata": {
        "colab": {
          "base_uri": "https://localhost:8080/",
          "height": 296
        },
        "id": "M_TyjwFyU19x",
        "outputId": "f2086df2-e00f-4fea-c3e0-4d2792526871"
      },
      "source": [
        "ax=sns.barplot(x='Diagnosis',y='Count',data=dfcommon,color='royalblue')\r\n",
        "plt.setp(ax.get_xticklabels(),rotation=90)\r\n",
        "plt.xlabel('Diagnosis')\r\n",
        "plt.ylabel('Count')\r\n",
        "plt.title('Diagnosis:17 most common')\r\n",
        "plt.gcf().subplots_adjust(bottom=0.25)\r\n",
        "#plt.savefig('baro_diag.png')\r\n",
        "plt.show()\r\n",
        "#files.download('baro_diag.png')\r\n"
      ],
      "execution_count": null,
      "outputs": [
        {
          "output_type": "display_data",
          "data": {
            "image/png": "[encoded data removed]",
            "text/plain": [
              "<Figure size 432x288 with 1 Axes>"
            ]
          },
          "metadata": {
            "tags": []
          }
        }
      ]
    },
    {
      "cell_type": "code",
      "metadata": {
        "id": "1InfKdnIXgV0",
        "colab": {
          "base_uri": "https://localhost:8080/",
          "height": 204
        },
        "outputId": "38d84f01-b406-4db7-8d7c-a7763b580a61"
      },
      "source": [
        "dfdiag=common_diag.groupby('CCS_Diagnosis_Description')['Length_of_Stay'].mean().reset_index()\r\n",
        "dfdiag=dfdiag.sort_values('Length_of_Stay',ascending=False)\r\n",
        "dfdiag.head()"
      ],
      "execution_count": null,
      "outputs": [
        {
          "output_type": "execute_result",
          "data": {
            "text/html": [
              "<div>\n",
              "<style scoped>\n",
              "    .dataframe tbody tr th:only-of-type {\n",
              "        vertical-align: middle;\n",
              "    }\n",
              "\n",
              "    .dataframe tbody tr th {\n",
              "        vertical-align: top;\n",
              "    }\n",
              "\n",
              "    .dataframe thead th {\n",
              "        text-align: right;\n",
              "    }\n",
              "</style>\n",
              "<table border=\"1\" class=\"dataframe\">\n",
              "  <thead>\n",
              "    <tr style=\"text-align: right;\">\n",
              "      <th></th>\n",
              "      <th>CCS_Diagnosis_Description</th>\n",
              "      <th>Length_of_Stay</th>\n",
              "    </tr>\n",
              "  </thead>\n",
              "  <tbody>\n",
              "    <tr>\n",
              "      <th>12</th>\n",
              "      <td>SCHIZ</td>\n",
              "      <td>16.969577</td>\n",
              "    </tr>\n",
              "    <tr>\n",
              "      <th>9</th>\n",
              "      <td>Mood</td>\n",
              "      <td>10.370956</td>\n",
              "    </tr>\n",
              "    <tr>\n",
              "      <th>13</th>\n",
              "      <td>Sept</td>\n",
              "      <td>9.590272</td>\n",
              "    </tr>\n",
              "    <tr>\n",
              "      <th>5</th>\n",
              "      <td>CVA</td>\n",
              "      <td>7.624357</td>\n",
              "    </tr>\n",
              "    <tr>\n",
              "      <th>3</th>\n",
              "      <td>CM1</td>\n",
              "      <td>7.169666</td>\n",
              "    </tr>\n",
              "  </tbody>\n",
              "</table>\n",
              "</div>"
            ],
            "text/plain": [
              "   CCS_Diagnosis_Description  Length_of_Stay\n",
              "12                     SCHIZ       16.969577\n",
              "9                       Mood       10.370956\n",
              "13                      Sept        9.590272\n",
              "5                        CVA        7.624357\n",
              "3                        CM1        7.169666"
            ]
          },
          "metadata": {
            "tags": []
          },
          "execution_count": 34
        }
      ]
    },
    {
      "cell_type": "code",
      "metadata": {
        "colab": {
          "base_uri": "https://localhost:8080/"
        },
        "id": "uzo2Jkz1-P1_",
        "outputId": "558b2345-eaba-44c7-85e6-62ffe6836c51"
      },
      "source": [
        "dfdiag.CCS_Diagnosis_Description.unique()"
      ],
      "execution_count": null,
      "outputs": [
        {
          "output_type": "execute_result",
          "data": {
            "text/plain": [
              "array(['SCHIZ', 'Mood', 'Sept', 'CVA', 'CM1', 'SubA', 'CHF', 'DM', 'Alch',\n",
              "       'PNU', 'Skin', 'Cd', 'Spondy', 'LB', 'ASTH', 'CM2', 'OA'],\n",
              "      dtype=object)"
            ]
          },
          "metadata": {
            "tags": []
          },
          "execution_count": 35
        }
      ]
    },
    {
      "cell_type": "code",
      "metadata": {
        "id": "6gHmFVFbTqrn",
        "colab": {
          "base_uri": "https://localhost:8080/",
          "height": 296
        },
        "outputId": "b0e34e0d-1100-4200-8626-efaf9f2c3841"
      },
      "source": [
        "ax=sns.barplot(x='CCS_Diagnosis_Description',y='Length_of_Stay',data=dfdiag,color='royalblue')\r\n",
        "plt.setp(ax.get_xticklabels(),rotation=90)\r\n",
        "plt.xlabel('Diagnosis')\r\n",
        "plt.ylabel('Mean Stay')\r\n",
        "plt.title('Diagnosis and Mean Length of Stay')\r\n",
        "plt.gcf().subplots_adjust(bottom=0.25)\r\n",
        "#plt.savefig('bar_diagnosis.png')\r\n",
        "plt.show()\r\n",
        "#files.download('bar_diagnosis.png')\r\n",
        "    \r\n",
        "  "
      ],
      "execution_count": null,
      "outputs": [
        {
          "output_type": "display_data",
          "data": {
            "image/png": "[encoded data removed]",
            "text/plain": [
              "<Figure size 432x288 with 1 Axes>"
            ]
          },
          "metadata": {
            "tags": []
          }
        }
      ]
    },
    {
      "cell_type": "code",
      "metadata": {
        "id": "Oo_KMU3b_XqS"
      },
      "source": [
        "common_diag['CCS_Diagnosis_Description'].replace({'Spondy':'Spon'},inplace=True)"
      ],
      "execution_count": null,
      "outputs": []
    },
    {
      "cell_type": "code",
      "metadata": {
        "colab": {
          "base_uri": "https://localhost:8080/",
          "height": 289
        },
        "id": "GJUXgTz50_aA",
        "outputId": "45cd4e31-9df5-4ad4-8f12-01902f6d471f"
      },
      "source": [
        "list=['SCHIZ', 'Mood', 'Sept', 'CVA', 'CM1', 'SubA', 'CHF', 'DM', 'Alch',\r\n",
        "       'PNU', 'Skin', 'Cd', 'Spon', 'LB', 'ASTH', 'CM2', 'OA']\r\n",
        "dfdg=common_diag.sort_values('Length_of_Stay',ascending=False)\r\n",
        "ax=sns.barplot(x='CCS_Diagnosis_Description',y='Length_of_Stay',data=dfdg, color='royalblue',order=list)\r\n",
        "plt.xlabel('Diagnosis')\r\n",
        "plt.ylabel('Length of Stay')\r\n",
        "plt.title('Diagnosis and Length of Stay')\r\n",
        "plt.gcf().subplots_adjust(bottom=0.25)\r\n",
        "plt.setp(ax.get_xticklabels(),rotation=90)\r\n",
        "#plt.savefig('ebar_diagnosis.png')\r\n",
        "#files.download('ebar_diagnosis.png')\r\n",
        "plt.show()"
      ],
      "execution_count": null,
      "outputs": [
        {
          "output_type": "display_data",
          "data": {
            "image/png": "[encoded data removed]",
            "text/plain": [
              "<Figure size 432x288 with 1 Axes>"
            ]
          },
          "metadata": {
            "tags": []
          }
        }
      ]
    },
    {
      "cell_type": "code",
      "metadata": {
        "id": "yFcZQE4wbYLJ",
        "colab": {
          "base_uri": "https://localhost:8080/"
        },
        "outputId": "1aafda9f-779d-4f74-c05a-bda3466a9c6d"
      },
      "source": [
        "df.CCS_Procedure_Description.describe()"
      ],
      "execution_count": null,
      "outputs": [
        {
          "output_type": "execute_result",
          "data": {
            "text/plain": [
              "count      118049\n",
              "unique        226\n",
              "top       NO PROC\n",
              "freq        28394\n",
              "Name: CCS_Procedure_Description, dtype: object"
            ]
          },
          "metadata": {
            "tags": []
          },
          "execution_count": 39
        }
      ]
    },
    {
      "cell_type": "code",
      "metadata": {
        "colab": {
          "base_uri": "https://localhost:8080/"
        },
        "id": "wg3QncqPhE85",
        "outputId": "163b465b-4f1a-4fc6-ea3f-d6086777f387"
      },
      "source": [
        "df.Payment_Typology_1.unique()"
      ],
      "execution_count": null,
      "outputs": [
        {
          "output_type": "execute_result",
          "data": {
            "text/plain": [
              "array(['Medicare', 'Self-Pay', 'Medicaid', 'Blue Cross/Blue Shield',\n",
              "       'Federal/State/Local/VA', 'Private Health Insurance',\n",
              "       'Miscellaneous/Other', 'Department of Corrections',\n",
              "       'Managed Care, Unspecified', 'Unknown'], dtype=object)"
            ]
          },
          "metadata": {
            "tags": []
          },
          "execution_count": 40
        }
      ]
    },
    {
      "cell_type": "code",
      "metadata": {
        "id": "Ib6aep1PhUkr"
      },
      "source": [
        "# Abbreviate insurance names and remap\r\n",
        "dict={'Medicare':'MCR', 'Medicaid':'MCD', 'Blue Cross/Blue Shield':'BCBS',\r\n",
        "       'Private Health Insurance':'PHI', 'Self-Pay':'SP', 'Miscellaneous/Other':'Other',\r\n",
        "       'Federal/State/Local/VA':'GovI', 'Department of Corrections':'DOC',\r\n",
        "       'Managed Care, Unspecified':'MC', 'Unknown':'U'}"
      ],
      "execution_count": null,
      "outputs": []
    },
    {
      "cell_type": "code",
      "metadata": {
        "id": "ZZBdd28Mh-5Q"
      },
      "source": [
        "df=df.replace({'Payment_Typology_1':dict})"
      ],
      "execution_count": null,
      "outputs": []
    },
    {
      "cell_type": "code",
      "metadata": {
        "colab": {
          "base_uri": "https://localhost:8080/"
        },
        "id": "zBsOGed6iPNd",
        "outputId": "791bf8c2-6af9-434c-fb62-96e53e1309da"
      },
      "source": [
        "df.Payment_Typology_1.unique()"
      ],
      "execution_count": null,
      "outputs": [
        {
          "output_type": "execute_result",
          "data": {
            "text/plain": [
              "array(['MCR', 'SP', 'MCD', 'BCBS', 'GovI', 'PHI', 'Other', 'DOC', 'MC',\n",
              "       'U'], dtype=object)"
            ]
          },
          "metadata": {
            "tags": []
          },
          "execution_count": 43
        }
      ]
    },
    {
      "cell_type": "code",
      "metadata": {
        "colab": {
          "base_uri": "https://localhost:8080/",
          "height": 204
        },
        "id": "ZeV23i9pAtaL",
        "outputId": "db9e7b10-a399-4ed2-fcfb-172a7cb7711f"
      },
      "source": [
        "dfp=df.groupby('Payment_Typology_1')['Length_of_Stay'].mean().reset_index()\r\n",
        "dfp=dfp.sort_values('Length_of_Stay',ascending=False)\r\n",
        "dfp.head()"
      ],
      "execution_count": null,
      "outputs": [
        {
          "output_type": "execute_result",
          "data": {
            "text/html": [
              "<div>\n",
              "<style scoped>\n",
              "    .dataframe tbody tr th:only-of-type {\n",
              "        vertical-align: middle;\n",
              "    }\n",
              "\n",
              "    .dataframe tbody tr th {\n",
              "        vertical-align: top;\n",
              "    }\n",
              "\n",
              "    .dataframe thead th {\n",
              "        text-align: right;\n",
              "    }\n",
              "</style>\n",
              "<table border=\"1\" class=\"dataframe\">\n",
              "  <thead>\n",
              "    <tr style=\"text-align: right;\">\n",
              "      <th></th>\n",
              "      <th>Payment_Typology_1</th>\n",
              "      <th>Length_of_Stay</th>\n",
              "    </tr>\n",
              "  </thead>\n",
              "  <tbody>\n",
              "    <tr>\n",
              "      <th>1</th>\n",
              "      <td>DOC</td>\n",
              "      <td>9.307971</td>\n",
              "    </tr>\n",
              "    <tr>\n",
              "      <th>5</th>\n",
              "      <td>MCR</td>\n",
              "      <td>6.631370</td>\n",
              "    </tr>\n",
              "    <tr>\n",
              "      <th>9</th>\n",
              "      <td>U</td>\n",
              "      <td>6.626062</td>\n",
              "    </tr>\n",
              "    <tr>\n",
              "      <th>6</th>\n",
              "      <td>Other</td>\n",
              "      <td>5.680350</td>\n",
              "    </tr>\n",
              "    <tr>\n",
              "      <th>4</th>\n",
              "      <td>MCD</td>\n",
              "      <td>5.313581</td>\n",
              "    </tr>\n",
              "  </tbody>\n",
              "</table>\n",
              "</div>"
            ],
            "text/plain": [
              "  Payment_Typology_1  Length_of_Stay\n",
              "1                DOC        9.307971\n",
              "5                MCR        6.631370\n",
              "9                  U        6.626062\n",
              "6              Other        5.680350\n",
              "4                MCD        5.313581"
            ]
          },
          "metadata": {
            "tags": []
          },
          "execution_count": 44
        }
      ]
    },
    {
      "cell_type": "code",
      "metadata": {
        "colab": {
          "base_uri": "https://localhost:8080/"
        },
        "id": "sbVxqq-_BdkG",
        "outputId": "a97ce1cc-d1d9-4999-8333-0feac98790e9"
      },
      "source": [
        "dfp.Payment_Typology_1.unique()"
      ],
      "execution_count": null,
      "outputs": [
        {
          "output_type": "execute_result",
          "data": {
            "text/plain": [
              "array(['DOC', 'MCR', 'U', 'Other', 'MCD', 'GovI', 'SP', 'PHI', 'MC',\n",
              "       'BCBS'], dtype=object)"
            ]
          },
          "metadata": {
            "tags": []
          },
          "execution_count": 45
        }
      ]
    },
    {
      "cell_type": "code",
      "metadata": {
        "id": "WicGGQ8BBiRz"
      },
      "source": [
        "list=['DOC', 'MCR','U','Other','MC','MCD', 'GovI', 'SP', 'PHI', 'BCBS']"
      ],
      "execution_count": null,
      "outputs": []
    },
    {
      "cell_type": "code",
      "metadata": {
        "colab": {
          "base_uri": "https://localhost:8080/",
          "height": 301
        },
        "id": "ZvZnZXe2iUeN",
        "outputId": "119352ad-0525-42d4-f119-dc077dc2b560"
      },
      "source": [
        "sns.set_theme(style=\"whitegrid\")\r\n",
        "dfin=df.sort_values('Length_of_Stay',ascending=False)\r\n",
        "sns.boxplot(y='Payment_Typology_1',x='Length_of_Stay',orient='h',data=dfin,showfliers=False,order=list)\r\n",
        "plt.title('Primary Insurance and Length of Stay')\r\n",
        "plt.xlabel('Length of Stay')\r\n",
        "plt.ylabel(' ')\r\n",
        "#plt.savefig('box_ins.png')\r\n",
        "plt.show()\r\n",
        "#files.download('box_ins.png')"
      ],
      "execution_count": null,
      "outputs": [
        {
          "output_type": "display_data",
          "data": {
            "image/png": "[encoded data removed]",
            "text/plain": [
              "<Figure size 432x288 with 1 Axes>"
            ]
          },
          "metadata": {
            "tags": []
          }
        }
      ]
    },
    {
      "cell_type": "code",
      "metadata": {
        "id": "974S3OOHjqU6"
      },
      "source": [
        "dict={'White':'W', 'Other Race':'OR', 'Black/African American':'AA', 'Multi-racial':'MR'}"
      ],
      "execution_count": null,
      "outputs": []
    },
    {
      "cell_type": "code",
      "metadata": {
        "id": "bKc9BjKDj7UF"
      },
      "source": [
        "df=df.replace({'Race':dict})"
      ],
      "execution_count": null,
      "outputs": []
    },
    {
      "cell_type": "code",
      "metadata": {
        "colab": {
          "base_uri": "https://localhost:8080/"
        },
        "id": "-t-MjPS7kDCB",
        "outputId": "ee83becd-a4a5-4fc2-b0a1-7a1c280575cf"
      },
      "source": [
        "df.Race.unique()"
      ],
      "execution_count": null,
      "outputs": [
        {
          "output_type": "execute_result",
          "data": {
            "text/plain": [
              "array(['W', 'AA', 'OR', 'MR'], dtype=object)"
            ]
          },
          "metadata": {
            "tags": []
          },
          "execution_count": 50
        }
      ]
    },
    {
      "cell_type": "code",
      "metadata": {
        "colab": {
          "base_uri": "https://localhost:8080/",
          "height": 318
        },
        "id": "qQMO7jqD0Zh_",
        "outputId": "fe01a849-fba2-454b-a058-5b818e19a847"
      },
      "source": [
        "list=['AA','OR','W','MR']\r\n",
        "sns.barplot(x='Race',y='Length_of_Stay',data=df,order=list,color='royalblue')\r\n",
        "plt.title('Race and Length of Stay')\r\n",
        "plt.xlabel('Race')\r\n",
        "plt.ylabel('Length of Stay')\r\n",
        "plt.savefig('Racebar.png')\r\n",
        "files.download('Racebar.png')"
      ],
      "execution_count": null,
      "outputs": [
        {
          "output_type": "display_data",
          "data": {
            "application/javascript": [
              "\n",
              "    async function download(id, filename, size) {\n",
              "      if (!google.colab.kernel.accessAllowed) {\n",
              "        return;\n",
              "      }\n",
              "      const div = document.createElement('div');\n",
              "      const label = document.createElement('label');\n",
              "      label.textContent = `Downloading \"${filename}\": `;\n",
              "      div.appendChild(label);\n",
              "      const progress = document.createElement('progress');\n",
              "      progress.max = size;\n",
              "      div.appendChild(progress);\n",
              "      document.body.appendChild(div);\n",
              "\n",
              "      const buffers = [];\n",
              "      let downloaded = 0;\n",
              "\n",
              "      const channel = await google.colab.kernel.comms.open(id);\n",
              "      // Send a message to notify the kernel that we're ready.\n",
              "      channel.send({})\n",
              "\n",
              "      for await (const message of channel.messages) {\n",
              "        // Send a message to notify the kernel that we're ready.\n",
              "        channel.send({})\n",
              "        if (message.buffers) {\n",
              "          for (const buffer of message.buffers) {\n",
              "            buffers.push(buffer);\n",
              "            downloaded += buffer.byteLength;\n",
              "            progress.value = downloaded;\n",
              "          }\n",
              "        }\n",
              "      }\n",
              "      const blob = new Blob(buffers, {type: 'application/binary'});\n",
              "      const a = document.createElement('a');\n",
              "      a.href = window.URL.createObjectURL(blob);\n",
              "      a.download = filename;\n",
              "      div.appendChild(a);\n",
              "      a.click();\n",
              "      div.remove();\n",
              "    }\n",
              "  "
            ],
            "text/plain": [
              "<IPython.core.display.Javascript object>"
            ]
          },
          "metadata": {
            "tags": []
          }
        },
        {
          "output_type": "display_data",
          "data": {
            "application/javascript": [
              "download(\"download_c7483294-8740-40cd-af3e-15aa5257a95c\", \"Racebar.png\", 9775)"
            ],
            "text/plain": [
              "<IPython.core.display.Javascript object>"
            ]
          },
          "metadata": {
            "tags": []
          }
        },
        {
          "output_type": "display_data",
          "data": {
            "image/png": "[encoded data removed]",
            "text/plain": [
              "<Figure size 432x288 with 1 Axes>"
            ]
          },
          "metadata": {
            "tags": []
          }
        }
      ]
    },
    {
      "cell_type": "code",
      "metadata": {
        "colab": {
          "base_uri": "https://localhost:8080/",
          "height": 301
        },
        "id": "XsOrRTnJN9d8",
        "outputId": "ad949be6-70f2-4322-8aca-e45bc58a980e"
      },
      "source": [
        "dfgen=df.sort_values('Length_of_Stay',ascending=False)\r\n",
        "sns.boxplot(x='Length_of_Stay',y='Gender',orient='h',showfliers=False,data=dfgen,order=['M','F'],showmeans=True,meanprops={\"marker\": \"+\", \r\n",
        "                       \"markeredgecolor\": \"black\", \r\n",
        "                       \"markersize\": \"10\"} )\r\n",
        "plt.xlabel('Length of Stay')\r\n",
        "plt.ylabel('Gender')\r\n",
        "plt.title('Gender and Length of Stay')\r\n",
        "#plt.savefig('box_gender.png')\r\n",
        "plt.show()\r\n",
        "#files.download('box_gender.png')"
      ],
      "execution_count": null,
      "outputs": [
        {
          "output_type": "display_data",
          "data": {
            "image/png": "[encoded data removed]",
            "text/plain": [
              "<Figure size 432x288 with 1 Axes>"
            ]
          },
          "metadata": {
            "tags": []
          }
        }
      ]
    },
    {
      "cell_type": "code",
      "metadata": {
        "colab": {
          "base_uri": "https://localhost:8080/",
          "height": 301
        },
        "id": "bxw_3fhI-gj1",
        "outputId": "0a84c484-c3ef-4027-db7e-6739292047b9"
      },
      "source": [
        "sns.barplot(x='Gender',y='Length_of_Stay',data=df)\r\n",
        "plt.xlabel('Gender')\r\n",
        "plt.ylabel('Length of Stay')\r\n",
        "plt.title('Gender and Length of Stay')\r\n",
        "#plt.savefig('bar_gender.png')\r\n",
        "plt.show()\r\n",
        "#files.download('bar_gender.png')"
      ],
      "execution_count": null,
      "outputs": [
        {
          "output_type": "display_data",
          "data": {
            "image/png": "[encoded data removed]",
            "text/plain": [
              "<Figure size 432x288 with 1 Axes>"
            ]
          },
          "metadata": {
            "tags": []
          }
        }
      ]
    },
    {
      "cell_type": "code",
      "metadata": {
        "colab": {
          "base_uri": "https://localhost:8080/",
          "height": 362
        },
        "id": "yLlbbO4uRZYF",
        "outputId": "abd84606-1543-41c3-c842-79b174d1ba9a"
      },
      "source": [
        "df.head()"
      ],
      "execution_count": null,
      "outputs": [
        {
          "output_type": "execute_result",
          "data": {
            "text/html": [
              "<div>\n",
              "<style scoped>\n",
              "    .dataframe tbody tr th:only-of-type {\n",
              "        vertical-align: middle;\n",
              "    }\n",
              "\n",
              "    .dataframe tbody tr th {\n",
              "        vertical-align: top;\n",
              "    }\n",
              "\n",
              "    .dataframe thead th {\n",
              "        text-align: right;\n",
              "    }\n",
              "</style>\n",
              "<table border=\"1\" class=\"dataframe\">\n",
              "  <thead>\n",
              "    <tr style=\"text-align: right;\">\n",
              "      <th></th>\n",
              "      <th>Hospital_Service_Area</th>\n",
              "      <th>Hospital_County</th>\n",
              "      <th>Facility_Name</th>\n",
              "      <th>Age_Group</th>\n",
              "      <th>Zip_Code__3_digits</th>\n",
              "      <th>Gender</th>\n",
              "      <th>Race</th>\n",
              "      <th>Length_of_Stay</th>\n",
              "      <th>Type_of_Admission</th>\n",
              "      <th>CCS_Diagnosis_Code</th>\n",
              "      <th>CCS_Diagnosis_Description</th>\n",
              "      <th>CCS_Procedure_Code</th>\n",
              "      <th>CCS_Procedure_Description</th>\n",
              "      <th>Payment_Typology_1</th>\n",
              "      <th>Emergency_Department_Indicator</th>\n",
              "      <th>Length_groups</th>\n",
              "      <th>length_groups</th>\n",
              "    </tr>\n",
              "  </thead>\n",
              "  <tbody>\n",
              "    <tr>\n",
              "      <th>0</th>\n",
              "      <td>Western NY</td>\n",
              "      <td>Erie</td>\n",
              "      <td>Buffalo General Medical Center</td>\n",
              "      <td>40</td>\n",
              "      <td>142</td>\n",
              "      <td>F</td>\n",
              "      <td>W</td>\n",
              "      <td>3.0</td>\n",
              "      <td>Elective</td>\n",
              "      <td>203</td>\n",
              "      <td>Osteoarthritis</td>\n",
              "      <td>153</td>\n",
              "      <td>HIP REPLACEMENT,TOT/PRT</td>\n",
              "      <td>MCR</td>\n",
              "      <td>N</td>\n",
              "      <td>below_mean</td>\n",
              "      <td>2-5</td>\n",
              "    </tr>\n",
              "    <tr>\n",
              "      <th>1</th>\n",
              "      <td>Western NY</td>\n",
              "      <td>Erie</td>\n",
              "      <td>Women And Children's Hospital Of Buffalo</td>\n",
              "      <td>20</td>\n",
              "      <td>OOS</td>\n",
              "      <td>F</td>\n",
              "      <td>AA</td>\n",
              "      <td>5.0</td>\n",
              "      <td>Urgent</td>\n",
              "      <td>183</td>\n",
              "      <td>Hypertension complicating pregnancy; childbirt...</td>\n",
              "      <td>134</td>\n",
              "      <td>CESAREAN SECTION</td>\n",
              "      <td>SP</td>\n",
              "      <td>N</td>\n",
              "      <td>below_mean</td>\n",
              "      <td>2-5</td>\n",
              "    </tr>\n",
              "    <tr>\n",
              "      <th>2</th>\n",
              "      <td>Western NY</td>\n",
              "      <td>Chautauqua</td>\n",
              "      <td>Brooks Memorial Hospital</td>\n",
              "      <td>10</td>\n",
              "      <td>140</td>\n",
              "      <td>M</td>\n",
              "      <td>W</td>\n",
              "      <td>3.0</td>\n",
              "      <td>Newborn</td>\n",
              "      <td>218</td>\n",
              "      <td>Liveborn</td>\n",
              "      <td>0</td>\n",
              "      <td>NO PROC</td>\n",
              "      <td>MCD</td>\n",
              "      <td>N</td>\n",
              "      <td>below_mean</td>\n",
              "      <td>2-5</td>\n",
              "    </tr>\n",
              "    <tr>\n",
              "      <th>3</th>\n",
              "      <td>Western NY</td>\n",
              "      <td>Cattaraugus</td>\n",
              "      <td>Olean General Hospital</td>\n",
              "      <td>40</td>\n",
              "      <td>147</td>\n",
              "      <td>F</td>\n",
              "      <td>W</td>\n",
              "      <td>6.0</td>\n",
              "      <td>Emergency</td>\n",
              "      <td>237</td>\n",
              "      <td>Complication of device; implant or graft</td>\n",
              "      <td>0</td>\n",
              "      <td>NO PROC</td>\n",
              "      <td>MCR</td>\n",
              "      <td>Y</td>\n",
              "      <td>above_mean</td>\n",
              "      <td>6-20</td>\n",
              "    </tr>\n",
              "    <tr>\n",
              "      <th>4</th>\n",
              "      <td>Western NY</td>\n",
              "      <td>Cattaraugus</td>\n",
              "      <td>Olean General Hospital</td>\n",
              "      <td>10</td>\n",
              "      <td>147</td>\n",
              "      <td>F</td>\n",
              "      <td>W</td>\n",
              "      <td>2.0</td>\n",
              "      <td>Newborn</td>\n",
              "      <td>218</td>\n",
              "      <td>Liveborn</td>\n",
              "      <td>228</td>\n",
              "      <td>PROPHYLACTIC VAC/INOCUL</td>\n",
              "      <td>BCBS</td>\n",
              "      <td>N</td>\n",
              "      <td>below_mean</td>\n",
              "      <td>2-5</td>\n",
              "    </tr>\n",
              "  </tbody>\n",
              "</table>\n",
              "</div>"
            ],
            "text/plain": [
              "  Hospital_Service_Area Hospital_County  ... Length_groups  length_groups\n",
              "0            Western NY            Erie  ...    below_mean            2-5\n",
              "1            Western NY            Erie  ...    below_mean            2-5\n",
              "2            Western NY      Chautauqua  ...    below_mean            2-5\n",
              "3            Western NY     Cattaraugus  ...    above_mean           6-20\n",
              "4            Western NY     Cattaraugus  ...    below_mean            2-5\n",
              "\n",
              "[5 rows x 17 columns]"
            ]
          },
          "metadata": {
            "tags": []
          },
          "execution_count": 54
        }
      ]
    },
    {
      "cell_type": "code",
      "metadata": {
        "colab": {
          "base_uri": "https://localhost:8080/"
        },
        "id": "doKyfAY2RvQg",
        "outputId": "705cc4a3-002e-4110-db54-1ff5cf2324ae"
      },
      "source": [
        "df.dtypes"
      ],
      "execution_count": null,
      "outputs": [
        {
          "output_type": "execute_result",
          "data": {
            "text/plain": [
              "Hospital_Service_Area               object\n",
              "Hospital_County                     object\n",
              "Facility_Name                       object\n",
              "Age_Group                            int64\n",
              "Zip_Code__3_digits                  object\n",
              "Gender                              object\n",
              "Race                                object\n",
              "Length_of_Stay                     float64\n",
              "Type_of_Admission                   object\n",
              "CCS_Diagnosis_Code                   int64\n",
              "CCS_Diagnosis_Description           object\n",
              "CCS_Procedure_Code                   int64\n",
              "CCS_Procedure_Description           object\n",
              "Payment_Typology_1                  object\n",
              "Emergency_Department_Indicator      object\n",
              "Length_groups                       object\n",
              "length_groups                     category\n",
              "dtype: object"
            ]
          },
          "metadata": {
            "tags": []
          },
          "execution_count": 55
        }
      ]
    },
    {
      "cell_type": "code",
      "metadata": {
        "id": "M_HG0tRIR6oM"
      },
      "source": [
        "df.rename(columns={'Length_groups': 'Below_Above_mean'}, inplace=True)"
      ],
      "execution_count": null,
      "outputs": []
    },
    {
      "cell_type": "code",
      "metadata": {
        "colab": {
          "base_uri": "https://localhost:8080/"
        },
        "id": "dMMMGO2dSn3t",
        "outputId": "6ba5c154-92a0-4f20-fe9e-bc4902ba38fa"
      },
      "source": [
        "df.CCS_Procedure_Code.unique().shape"
      ],
      "execution_count": null,
      "outputs": [
        {
          "output_type": "execute_result",
          "data": {
            "text/plain": [
              "(226,)"
            ]
          },
          "metadata": {
            "tags": []
          },
          "execution_count": 57
        }
      ]
    },
    {
      "cell_type": "code",
      "metadata": {
        "colab": {
          "base_uri": "https://localhost:8080/"
        },
        "id": "6lOK6sifTBFj",
        "outputId": "6d3cf1ae-faf7-4bcd-b3c7-e1de99a6c0b6"
      },
      "source": [
        "df.CCS_Procedure_Description.unique().shape"
      ],
      "execution_count": null,
      "outputs": [
        {
          "output_type": "execute_result",
          "data": {
            "text/plain": [
              "(226,)"
            ]
          },
          "metadata": {
            "tags": []
          },
          "execution_count": 58
        }
      ]
    },
    {
      "cell_type": "code",
      "metadata": {
        "id": "VE7mEhCsTir_"
      },
      "source": [
        "# CCS procedure code provides same information as the description, drop codes\r\n",
        "df=df.drop('CCS_Procedure_Code',axis=1)"
      ],
      "execution_count": null,
      "outputs": []
    },
    {
      "cell_type": "code",
      "metadata": {
        "colab": {
          "base_uri": "https://localhost:8080/"
        },
        "id": "AJ4jD2jIT4xp",
        "outputId": "e2c9a2df-912c-4baa-f4c0-84bc49e3d0a2"
      },
      "source": [
        "df.CCS_Diagnosis_Code.unique().shape"
      ],
      "execution_count": null,
      "outputs": [
        {
          "output_type": "execute_result",
          "data": {
            "text/plain": [
              "(257,)"
            ]
          },
          "metadata": {
            "tags": []
          },
          "execution_count": 60
        }
      ]
    },
    {
      "cell_type": "code",
      "metadata": {
        "colab": {
          "base_uri": "https://localhost:8080/"
        },
        "id": "_mwpVOJWT_lw",
        "outputId": "d0cbf83a-7d4f-4a2e-a5dd-afcf174b1077"
      },
      "source": [
        "df.CCS_Diagnosis_Description.unique().shape"
      ],
      "execution_count": null,
      "outputs": [
        {
          "output_type": "execute_result",
          "data": {
            "text/plain": [
              "(257,)"
            ]
          },
          "metadata": {
            "tags": []
          },
          "execution_count": 61
        }
      ]
    },
    {
      "cell_type": "code",
      "metadata": {
        "id": "ryjlRM56UGsb"
      },
      "source": [
        "# drop CCS diagnosis Codes and keep description\r\n",
        "df=df.drop('CCS_Diagnosis_Code',axis=1)"
      ],
      "execution_count": null,
      "outputs": []
    },
    {
      "cell_type": "code",
      "metadata": {
        "colab": {
          "base_uri": "https://localhost:8080/"
        },
        "id": "ww5eBNnQS1zy",
        "outputId": "c5b0056c-3c03-4ab8-d5f0-62d7fc76dd93"
      },
      "source": [
        "df.Zip_Code__3_digits.unique().shape\r\n"
      ],
      "execution_count": null,
      "outputs": [
        {
          "output_type": "execute_result",
          "data": {
            "text/plain": [
              "(51,)"
            ]
          },
          "metadata": {
            "tags": []
          },
          "execution_count": 63
        }
      ]
    },
    {
      "cell_type": "code",
      "metadata": {
        "colab": {
          "base_uri": "https://localhost:8080/"
        },
        "id": "J7i4qsjdUpuj",
        "outputId": "41d586f9-494f-49e8-e003-2e21716ab6b6"
      },
      "source": [
        "df.columns"
      ],
      "execution_count": null,
      "outputs": [
        {
          "output_type": "execute_result",
          "data": {
            "text/plain": [
              "Index(['Hospital_Service_Area', 'Hospital_County', 'Facility_Name',\n",
              "       'Age_Group', 'Zip_Code__3_digits', 'Gender', 'Race', 'Length_of_Stay',\n",
              "       'Type_of_Admission', 'CCS_Diagnosis_Description',\n",
              "       'CCS_Procedure_Description', 'Payment_Typology_1',\n",
              "       'Emergency_Department_Indicator', 'Below_Above_mean', 'length_groups'],\n",
              "      dtype='object')"
            ]
          },
          "metadata": {
            "tags": []
          },
          "execution_count": 64
        }
      ]
    },
    {
      "cell_type": "code",
      "metadata": {
        "id": "t8ACYTtyVHah"
      },
      "source": [
        "#create a column with mean length of stay for each diagnosis group:MeanLOS_byD\r\n",
        "dfdiag=df.groupby('CCS_Diagnosis_Description')['Length_of_Stay'].mean().reset_index()"
      ],
      "execution_count": null,
      "outputs": []
    },
    {
      "cell_type": "code",
      "metadata": {
        "id": "zVAIGvKwWLLQ"
      },
      "source": [
        "dfdiag.rename(columns={'Length_of_Stay':'Diag_mean'},inplace=True)"
      ],
      "execution_count": null,
      "outputs": []
    },
    {
      "cell_type": "code",
      "metadata": {
        "colab": {
          "base_uri": "https://localhost:8080/"
        },
        "id": "XgZMS15TxiSG",
        "outputId": "5d7b4595-f0db-4be4-8912-39fe0a6dadc5"
      },
      "source": [
        "dfdiag.shape"
      ],
      "execution_count": null,
      "outputs": [
        {
          "output_type": "execute_result",
          "data": {
            "text/plain": [
              "(257, 2)"
            ]
          },
          "metadata": {
            "tags": []
          },
          "execution_count": 67
        }
      ]
    },
    {
      "cell_type": "code",
      "metadata": {
        "id": "Z4KZ6vcYZiai"
      },
      "source": [
        "df['MeanLOS_byD']=df['CCS_Diagnosis_Description']"
      ],
      "execution_count": null,
      "outputs": []
    },
    {
      "cell_type": "code",
      "metadata": {
        "colab": {
          "base_uri": "https://localhost:8080/"
        },
        "id": "Vq6vPLtJighl",
        "outputId": "c241ad1e-08f4-4d42-c15c-91183123cda8"
      },
      "source": [
        "dfdiag.columns"
      ],
      "execution_count": null,
      "outputs": [
        {
          "output_type": "execute_result",
          "data": {
            "text/plain": [
              "Index(['CCS_Diagnosis_Description', 'Diag_mean'], dtype='object')"
            ]
          },
          "metadata": {
            "tags": []
          },
          "execution_count": 69
        }
      ]
    },
    {
      "cell_type": "code",
      "metadata": {
        "id": "3vJkLQy2mCNN"
      },
      "source": [
        "listk=dfdiag['CCS_Diagnosis_Description'].tolist()"
      ],
      "execution_count": null,
      "outputs": []
    },
    {
      "cell_type": "code",
      "metadata": {
        "id": "tMqL7dpkmCca"
      },
      "source": [
        "listv=dfdiag['Diag_mean'].tolist()"
      ],
      "execution_count": null,
      "outputs": []
    },
    {
      "cell_type": "code",
      "metadata": {
        "id": "rDHc0u_KmCiO"
      },
      "source": [
        "d={}\r\n",
        "# COnvert to dictionary\r\n",
        "d = {listk[i]: listv[i] for i in range(len(listk))}"
      ],
      "execution_count": null,
      "outputs": []
    },
    {
      "cell_type": "code",
      "metadata": {
        "id": "Ht5ZQph7m9Jo"
      },
      "source": [
        "df=df.replace({'MeanLOS_byD':d})"
      ],
      "execution_count": null,
      "outputs": []
    },
    {
      "cell_type": "code",
      "metadata": {
        "colab": {
          "base_uri": "https://localhost:8080/",
          "height": 362
        },
        "id": "e4aK7zh_jBlb",
        "outputId": "2e096bc3-cd8c-44e3-ee07-9ba82ff6259b"
      },
      "source": [
        "df.head()"
      ],
      "execution_count": null,
      "outputs": [
        {
          "output_type": "execute_result",
          "data": {
            "text/html": [
              "<div>\n",
              "<style scoped>\n",
              "    .dataframe tbody tr th:only-of-type {\n",
              "        vertical-align: middle;\n",
              "    }\n",
              "\n",
              "    .dataframe tbody tr th {\n",
              "        vertical-align: top;\n",
              "    }\n",
              "\n",
              "    .dataframe thead th {\n",
              "        text-align: right;\n",
              "    }\n",
              "</style>\n",
              "<table border=\"1\" class=\"dataframe\">\n",
              "  <thead>\n",
              "    <tr style=\"text-align: right;\">\n",
              "      <th></th>\n",
              "      <th>Hospital_Service_Area</th>\n",
              "      <th>Hospital_County</th>\n",
              "      <th>Facility_Name</th>\n",
              "      <th>Age_Group</th>\n",
              "      <th>Zip_Code__3_digits</th>\n",
              "      <th>Gender</th>\n",
              "      <th>Race</th>\n",
              "      <th>Length_of_Stay</th>\n",
              "      <th>Type_of_Admission</th>\n",
              "      <th>CCS_Diagnosis_Description</th>\n",
              "      <th>CCS_Procedure_Description</th>\n",
              "      <th>Payment_Typology_1</th>\n",
              "      <th>Emergency_Department_Indicator</th>\n",
              "      <th>Below_Above_mean</th>\n",
              "      <th>length_groups</th>\n",
              "      <th>MeanLOS_byD</th>\n",
              "    </tr>\n",
              "  </thead>\n",
              "  <tbody>\n",
              "    <tr>\n",
              "      <th>0</th>\n",
              "      <td>Western NY</td>\n",
              "      <td>Erie</td>\n",
              "      <td>Buffalo General Medical Center</td>\n",
              "      <td>40</td>\n",
              "      <td>142</td>\n",
              "      <td>F</td>\n",
              "      <td>W</td>\n",
              "      <td>3.0</td>\n",
              "      <td>Elective</td>\n",
              "      <td>Osteoarthritis</td>\n",
              "      <td>HIP REPLACEMENT,TOT/PRT</td>\n",
              "      <td>MCR</td>\n",
              "      <td>N</td>\n",
              "      <td>below_mean</td>\n",
              "      <td>2-5</td>\n",
              "      <td>3.125348</td>\n",
              "    </tr>\n",
              "    <tr>\n",
              "      <th>1</th>\n",
              "      <td>Western NY</td>\n",
              "      <td>Erie</td>\n",
              "      <td>Women And Children's Hospital Of Buffalo</td>\n",
              "      <td>20</td>\n",
              "      <td>OOS</td>\n",
              "      <td>F</td>\n",
              "      <td>AA</td>\n",
              "      <td>5.0</td>\n",
              "      <td>Urgent</td>\n",
              "      <td>Hypertension complicating pregnancy; childbirt...</td>\n",
              "      <td>CESAREAN SECTION</td>\n",
              "      <td>SP</td>\n",
              "      <td>N</td>\n",
              "      <td>below_mean</td>\n",
              "      <td>2-5</td>\n",
              "      <td>3.882438</td>\n",
              "    </tr>\n",
              "    <tr>\n",
              "      <th>2</th>\n",
              "      <td>Western NY</td>\n",
              "      <td>Chautauqua</td>\n",
              "      <td>Brooks Memorial Hospital</td>\n",
              "      <td>10</td>\n",
              "      <td>140</td>\n",
              "      <td>M</td>\n",
              "      <td>W</td>\n",
              "      <td>3.0</td>\n",
              "      <td>Newborn</td>\n",
              "      <td>Liveborn</td>\n",
              "      <td>NO PROC</td>\n",
              "      <td>MCD</td>\n",
              "      <td>N</td>\n",
              "      <td>below_mean</td>\n",
              "      <td>2-5</td>\n",
              "      <td>3.599619</td>\n",
              "    </tr>\n",
              "    <tr>\n",
              "      <th>3</th>\n",
              "      <td>Western NY</td>\n",
              "      <td>Cattaraugus</td>\n",
              "      <td>Olean General Hospital</td>\n",
              "      <td>40</td>\n",
              "      <td>147</td>\n",
              "      <td>F</td>\n",
              "      <td>W</td>\n",
              "      <td>6.0</td>\n",
              "      <td>Emergency</td>\n",
              "      <td>Complication of device; implant or graft</td>\n",
              "      <td>NO PROC</td>\n",
              "      <td>MCR</td>\n",
              "      <td>Y</td>\n",
              "      <td>above_mean</td>\n",
              "      <td>6-20</td>\n",
              "      <td>7.169666</td>\n",
              "    </tr>\n",
              "    <tr>\n",
              "      <th>4</th>\n",
              "      <td>Western NY</td>\n",
              "      <td>Cattaraugus</td>\n",
              "      <td>Olean General Hospital</td>\n",
              "      <td>10</td>\n",
              "      <td>147</td>\n",
              "      <td>F</td>\n",
              "      <td>W</td>\n",
              "      <td>2.0</td>\n",
              "      <td>Newborn</td>\n",
              "      <td>Liveborn</td>\n",
              "      <td>PROPHYLACTIC VAC/INOCUL</td>\n",
              "      <td>BCBS</td>\n",
              "      <td>N</td>\n",
              "      <td>below_mean</td>\n",
              "      <td>2-5</td>\n",
              "      <td>3.599619</td>\n",
              "    </tr>\n",
              "  </tbody>\n",
              "</table>\n",
              "</div>"
            ],
            "text/plain": [
              "  Hospital_Service_Area Hospital_County  ... length_groups  MeanLOS_byD\n",
              "0            Western NY            Erie  ...           2-5     3.125348\n",
              "1            Western NY            Erie  ...           2-5     3.882438\n",
              "2            Western NY      Chautauqua  ...           2-5     3.599619\n",
              "3            Western NY     Cattaraugus  ...          6-20     7.169666\n",
              "4            Western NY     Cattaraugus  ...           2-5     3.599619\n",
              "\n",
              "[5 rows x 16 columns]"
            ]
          },
          "metadata": {
            "tags": []
          },
          "execution_count": 74
        }
      ]
    },
    {
      "cell_type": "code",
      "metadata": {
        "id": "puKfPPPNn5aV"
      },
      "source": [
        "# Create a column mean length of stay by procedure: MeanLOS_byP\r\n",
        "df['MeanLOS_byP']=df['CCS_Procedure_Description']"
      ],
      "execution_count": null,
      "outputs": []
    },
    {
      "cell_type": "code",
      "metadata": {
        "id": "_xSnmLC8bHYk"
      },
      "source": [
        "# Create a column mean length of stay by procedure: MeanLOS_byP\r\n",
        "dfproc=df.groupby('CCS_Procedure_Description')['Length_of_Stay'].mean().reset_index()\r\n",
        "dfproc.rename(columns={'Length_of_Stay':'Proc_mean'},inplace=True)\r\n",
        "listK=dfproc['CCS_Procedure_Description'].tolist()\r\n",
        "listV=dfproc['Proc_mean'].tolist()\r\n",
        "d={listK[i]:listV[i] for i in range(len(listK))}\r\n",
        "df=df.replace({'MeanLOS_byP':d})"
      ],
      "execution_count": null,
      "outputs": []
    },
    {
      "cell_type": "code",
      "metadata": {
        "id": "5-0bwtXacxKO",
        "colab": {
          "base_uri": "https://localhost:8080/",
          "height": 362
        },
        "outputId": "b8517ce4-fee3-410d-c20f-ccce61ad059c"
      },
      "source": [
        "df.head()"
      ],
      "execution_count": null,
      "outputs": [
        {
          "output_type": "execute_result",
          "data": {
            "text/html": [
              "<div>\n",
              "<style scoped>\n",
              "    .dataframe tbody tr th:only-of-type {\n",
              "        vertical-align: middle;\n",
              "    }\n",
              "\n",
              "    .dataframe tbody tr th {\n",
              "        vertical-align: top;\n",
              "    }\n",
              "\n",
              "    .dataframe thead th {\n",
              "        text-align: right;\n",
              "    }\n",
              "</style>\n",
              "<table border=\"1\" class=\"dataframe\">\n",
              "  <thead>\n",
              "    <tr style=\"text-align: right;\">\n",
              "      <th></th>\n",
              "      <th>Hospital_Service_Area</th>\n",
              "      <th>Hospital_County</th>\n",
              "      <th>Facility_Name</th>\n",
              "      <th>Age_Group</th>\n",
              "      <th>Zip_Code__3_digits</th>\n",
              "      <th>Gender</th>\n",
              "      <th>Race</th>\n",
              "      <th>Length_of_Stay</th>\n",
              "      <th>Type_of_Admission</th>\n",
              "      <th>CCS_Diagnosis_Description</th>\n",
              "      <th>CCS_Procedure_Description</th>\n",
              "      <th>Payment_Typology_1</th>\n",
              "      <th>Emergency_Department_Indicator</th>\n",
              "      <th>Below_Above_mean</th>\n",
              "      <th>length_groups</th>\n",
              "      <th>MeanLOS_byD</th>\n",
              "      <th>MeanLOS_byP</th>\n",
              "    </tr>\n",
              "  </thead>\n",
              "  <tbody>\n",
              "    <tr>\n",
              "      <th>0</th>\n",
              "      <td>Western NY</td>\n",
              "      <td>Erie</td>\n",
              "      <td>Buffalo General Medical Center</td>\n",
              "      <td>40</td>\n",
              "      <td>142</td>\n",
              "      <td>F</td>\n",
              "      <td>W</td>\n",
              "      <td>3.0</td>\n",
              "      <td>Elective</td>\n",
              "      <td>Osteoarthritis</td>\n",
              "      <td>HIP REPLACEMENT,TOT/PRT</td>\n",
              "      <td>MCR</td>\n",
              "      <td>N</td>\n",
              "      <td>below_mean</td>\n",
              "      <td>2-5</td>\n",
              "      <td>3.125348</td>\n",
              "      <td>3.901561</td>\n",
              "    </tr>\n",
              "    <tr>\n",
              "      <th>1</th>\n",
              "      <td>Western NY</td>\n",
              "      <td>Erie</td>\n",
              "      <td>Women And Children's Hospital Of Buffalo</td>\n",
              "      <td>20</td>\n",
              "      <td>OOS</td>\n",
              "      <td>F</td>\n",
              "      <td>AA</td>\n",
              "      <td>5.0</td>\n",
              "      <td>Urgent</td>\n",
              "      <td>Hypertension complicating pregnancy; childbirt...</td>\n",
              "      <td>CESAREAN SECTION</td>\n",
              "      <td>SP</td>\n",
              "      <td>N</td>\n",
              "      <td>below_mean</td>\n",
              "      <td>2-5</td>\n",
              "      <td>3.882438</td>\n",
              "      <td>3.798021</td>\n",
              "    </tr>\n",
              "    <tr>\n",
              "      <th>2</th>\n",
              "      <td>Western NY</td>\n",
              "      <td>Chautauqua</td>\n",
              "      <td>Brooks Memorial Hospital</td>\n",
              "      <td>10</td>\n",
              "      <td>140</td>\n",
              "      <td>M</td>\n",
              "      <td>W</td>\n",
              "      <td>3.0</td>\n",
              "      <td>Newborn</td>\n",
              "      <td>Liveborn</td>\n",
              "      <td>NO PROC</td>\n",
              "      <td>MCD</td>\n",
              "      <td>N</td>\n",
              "      <td>below_mean</td>\n",
              "      <td>2-5</td>\n",
              "      <td>3.599619</td>\n",
              "      <td>4.659893</td>\n",
              "    </tr>\n",
              "    <tr>\n",
              "      <th>3</th>\n",
              "      <td>Western NY</td>\n",
              "      <td>Cattaraugus</td>\n",
              "      <td>Olean General Hospital</td>\n",
              "      <td>40</td>\n",
              "      <td>147</td>\n",
              "      <td>F</td>\n",
              "      <td>W</td>\n",
              "      <td>6.0</td>\n",
              "      <td>Emergency</td>\n",
              "      <td>Complication of device; implant or graft</td>\n",
              "      <td>NO PROC</td>\n",
              "      <td>MCR</td>\n",
              "      <td>Y</td>\n",
              "      <td>above_mean</td>\n",
              "      <td>6-20</td>\n",
              "      <td>7.169666</td>\n",
              "      <td>4.659893</td>\n",
              "    </tr>\n",
              "    <tr>\n",
              "      <th>4</th>\n",
              "      <td>Western NY</td>\n",
              "      <td>Cattaraugus</td>\n",
              "      <td>Olean General Hospital</td>\n",
              "      <td>10</td>\n",
              "      <td>147</td>\n",
              "      <td>F</td>\n",
              "      <td>W</td>\n",
              "      <td>2.0</td>\n",
              "      <td>Newborn</td>\n",
              "      <td>Liveborn</td>\n",
              "      <td>PROPHYLACTIC VAC/INOCUL</td>\n",
              "      <td>BCBS</td>\n",
              "      <td>N</td>\n",
              "      <td>below_mean</td>\n",
              "      <td>2-5</td>\n",
              "      <td>3.599619</td>\n",
              "      <td>2.707005</td>\n",
              "    </tr>\n",
              "  </tbody>\n",
              "</table>\n",
              "</div>"
            ],
            "text/plain": [
              "  Hospital_Service_Area Hospital_County  ... MeanLOS_byD  MeanLOS_byP\n",
              "0            Western NY            Erie  ...    3.125348     3.901561\n",
              "1            Western NY            Erie  ...    3.882438     3.798021\n",
              "2            Western NY      Chautauqua  ...    3.599619     4.659893\n",
              "3            Western NY     Cattaraugus  ...    7.169666     4.659893\n",
              "4            Western NY     Cattaraugus  ...    3.599619     2.707005\n",
              "\n",
              "[5 rows x 17 columns]"
            ]
          },
          "metadata": {
            "tags": []
          },
          "execution_count": 77
        }
      ]
    },
    {
      "cell_type": "code",
      "metadata": {
        "id": "IrxR7niUc1kD",
        "colab": {
          "base_uri": "https://localhost:8080/"
        },
        "outputId": "650313e3-d851-4bfd-a496-7e342c26abe5"
      },
      "source": [
        "df.shape"
      ],
      "execution_count": null,
      "outputs": [
        {
          "output_type": "execute_result",
          "data": {
            "text/plain": [
              "(118049, 17)"
            ]
          },
          "metadata": {
            "tags": []
          },
          "execution_count": 78
        }
      ]
    },
    {
      "cell_type": "code",
      "metadata": {
        "id": "5qLMHZGnedpF",
        "colab": {
          "base_uri": "https://localhost:8080/"
        },
        "outputId": "75f2e9cd-20c2-4a7d-d7a5-0fdecfc61e60"
      },
      "source": [
        "df.dtypes"
      ],
      "execution_count": null,
      "outputs": [
        {
          "output_type": "execute_result",
          "data": {
            "text/plain": [
              "Hospital_Service_Area               object\n",
              "Hospital_County                     object\n",
              "Facility_Name                       object\n",
              "Age_Group                            int64\n",
              "Zip_Code__3_digits                  object\n",
              "Gender                              object\n",
              "Race                                object\n",
              "Length_of_Stay                     float64\n",
              "Type_of_Admission                   object\n",
              "CCS_Diagnosis_Description           object\n",
              "CCS_Procedure_Description           object\n",
              "Payment_Typology_1                  object\n",
              "Emergency_Department_Indicator      object\n",
              "Below_Above_mean                    object\n",
              "length_groups                     category\n",
              "MeanLOS_byD                        float64\n",
              "MeanLOS_byP                        float64\n",
              "dtype: object"
            ]
          },
          "metadata": {
            "tags": []
          },
          "execution_count": 79
        }
      ]
    },
    {
      "cell_type": "code",
      "metadata": {
        "id": "f0Qfvni0iX9p"
      },
      "source": [
        "# Convert X into dummy variables\r\n",
        "#X=pd.get_dummies(X,drop_first=True)"
      ],
      "execution_count": null,
      "outputs": []
    },
    {
      "cell_type": "code",
      "metadata": {
        "id": "SswNwNIOiy_k"
      },
      "source": [
        "#y=df['length_groups']"
      ],
      "execution_count": null,
      "outputs": []
    },
    {
      "cell_type": "code",
      "metadata": {
        "id": "QyhJO6N0jkuE"
      },
      "source": [
        "#from sklearn.preprocessing import StandardScaler"
      ],
      "execution_count": null,
      "outputs": []
    },
    {
      "cell_type": "code",
      "metadata": {
        "id": "yJFw1fA1jqvJ"
      },
      "source": [
        "#scaler=StandardScaler()"
      ],
      "execution_count": null,
      "outputs": []
    },
    {
      "cell_type": "code",
      "metadata": {
        "id": "BD6HjFIrjvm8"
      },
      "source": [
        "#X_Scaled=scaler.fit_transform(X)\r\n"
      ],
      "execution_count": null,
      "outputs": []
    },
    {
      "cell_type": "code",
      "metadata": {
        "id": "LyxACquaSdvz"
      },
      "source": [
        "#df.to_csv('nysdoh_feature.csv')"
      ],
      "execution_count": null,
      "outputs": []
    },
    {
      "cell_type": "code",
      "metadata": {
        "id": "zKI63IhmSpl6",
        "colab": {
          "base_uri": "https://localhost:8080/",
          "height": 17
        },
        "outputId": "a24112e7-1650-46af-9743-079278884700"
      },
      "source": [
        "#files.download('nysdoh_feature.csv')"
      ],
      "execution_count": null,
      "outputs": [
        {
          "output_type": "display_data",
          "data": {
            "application/javascript": [
              "\n",
              "    async function download(id, filename, size) {\n",
              "      if (!google.colab.kernel.accessAllowed) {\n",
              "        return;\n",
              "      }\n",
              "      const div = document.createElement('div');\n",
              "      const label = document.createElement('label');\n",
              "      label.textContent = `Downloading \"${filename}\": `;\n",
              "      div.appendChild(label);\n",
              "      const progress = document.createElement('progress');\n",
              "      progress.max = size;\n",
              "      div.appendChild(progress);\n",
              "      document.body.appendChild(div);\n",
              "\n",
              "      const buffers = [];\n",
              "      let downloaded = 0;\n",
              "\n",
              "      const channel = await google.colab.kernel.comms.open(id);\n",
              "      // Send a message to notify the kernel that we're ready.\n",
              "      channel.send({})\n",
              "\n",
              "      for await (const message of channel.messages) {\n",
              "        // Send a message to notify the kernel that we're ready.\n",
              "        channel.send({})\n",
              "        if (message.buffers) {\n",
              "          for (const buffer of message.buffers) {\n",
              "            buffers.push(buffer);\n",
              "            downloaded += buffer.byteLength;\n",
              "            progress.value = downloaded;\n",
              "          }\n",
              "        }\n",
              "      }\n",
              "      const blob = new Blob(buffers, {type: 'application/binary'});\n",
              "      const a = document.createElement('a');\n",
              "      a.href = window.URL.createObjectURL(blob);\n",
              "      a.download = filename;\n",
              "      div.appendChild(a);\n",
              "      a.click();\n",
              "      div.remove();\n",
              "    }\n",
              "  "
            ],
            "text/plain": [
              "<IPython.core.display.Javascript object>"
            ]
          },
          "metadata": {
            "tags": []
          }
        },
        {
          "output_type": "display_data",
          "data": {
            "application/javascript": [
              "download(\"download_e59c542b-9342-487a-9ab5-b09fbbe67eae\", \"nysdoh_feature.csv\", 22835466)"
            ],
            "text/plain": [
              "<IPython.core.display.Javascript object>"
            ]
          },
          "metadata": {
            "tags": []
          }
        }
      ]
    }
  ]
}